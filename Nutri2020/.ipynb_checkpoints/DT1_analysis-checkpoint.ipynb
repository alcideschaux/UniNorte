{
 "cells": [
  {
   "cell_type": "markdown",
   "metadata": {},
   "source": [
    "# Rendimiento de la evaluación de Dirección de Tesis I"
   ]
  },
  {
   "cell_type": "markdown",
   "metadata": {},
   "source": [
    "Para este análisis, usaremos Python 3.7.7 en JupyterLab 2.1.5 de la Distribución Anaconda 2020-07 (Anaconda Inc., Austin, TX). En primer lugar, importaremos las librerías que necesitaremos para el análisis de datos y la visualización de resultados"
   ]
  },
  {
   "cell_type": "code",
   "execution_count": 1,
   "metadata": {},
   "outputs": [],
   "source": [
    "import numpy as np\n",
    "import pandas as pd\n",
    "from matplotlib import pyplot as plt\n",
    "import seaborn as sns\n",
    "import scipy.stats"
   ]
  },
  {
   "cell_type": "markdown",
   "metadata": {},
   "source": [
    "A continuación, importaremos la base de datos con toda la información acerca de la evaluación. Seleccionaremos 2 columnas para el análisis, la fecha de la evaluación y el puntaje obtenido. Haremos también algunos ajustes con respecto a estas variables, para que puedan ser analizadas apropiadamente. Agregaremos también una columna conteniendo un identificador para cada fila. Finalmente, echaremos un vistazo a las primeras 5 filas de la tabla de datos."
   ]
  },
  {
   "cell_type": "code",
   "execution_count": 3,
   "metadata": {},
   "outputs": [
    {
     "data": {
      "text/html": [
       "<div>\n",
       "<style scoped>\n",
       "    .dataframe tbody tr th:only-of-type {\n",
       "        vertical-align: middle;\n",
       "    }\n",
       "\n",
       "    .dataframe tbody tr th {\n",
       "        vertical-align: top;\n",
       "    }\n",
       "\n",
       "    .dataframe thead th {\n",
       "        text-align: right;\n",
       "    }\n",
       "</style>\n",
       "<table border=\"1\" class=\"dataframe\">\n",
       "  <thead>\n",
       "    <tr style=\"text-align: right;\">\n",
       "      <th></th>\n",
       "      <th>Fecha</th>\n",
       "      <th>Puntaje</th>\n",
       "      <th>N</th>\n",
       "    </tr>\n",
       "  </thead>\n",
       "  <tbody>\n",
       "    <tr>\n",
       "      <th>0</th>\n",
       "      <td>24/07</td>\n",
       "      <td>NaN</td>\n",
       "      <td>0</td>\n",
       "    </tr>\n",
       "    <tr>\n",
       "      <th>1</th>\n",
       "      <td>24/07</td>\n",
       "      <td>38.0</td>\n",
       "      <td>1</td>\n",
       "    </tr>\n",
       "    <tr>\n",
       "      <th>2</th>\n",
       "      <td>24/07</td>\n",
       "      <td>33.0</td>\n",
       "      <td>2</td>\n",
       "    </tr>\n",
       "    <tr>\n",
       "      <th>3</th>\n",
       "      <td>24/07</td>\n",
       "      <td>27.0</td>\n",
       "      <td>3</td>\n",
       "    </tr>\n",
       "    <tr>\n",
       "      <th>4</th>\n",
       "      <td>24/07</td>\n",
       "      <td>25.0</td>\n",
       "      <td>4</td>\n",
       "    </tr>\n",
       "  </tbody>\n",
       "</table>\n",
       "</div>"
      ],
      "text/plain": [
       "   Fecha  Puntaje  N\n",
       "0  24/07      NaN  0\n",
       "1  24/07     38.0  1\n",
       "2  24/07     33.0  2\n",
       "3  24/07     27.0  3\n",
       "4  24/07     25.0  4"
      ]
     },
     "execution_count": 3,
     "metadata": {},
     "output_type": "execute_result"
    }
   ],
   "source": [
    "dataset = pd.read_csv('DT1.csv', usecols=[7,10], na_values='-')\n",
    "dataset = dataset.iloc[:-1,:]\n",
    "dataset.rename(columns={'Comenzado el':'Fecha','Calificación/50':'Puntaje'}, inplace=True)\n",
    "dataset = dataset.astype({'Fecha':'category'})\n",
    "dataset['Fecha'] = dataset['Fecha'].apply(lambda x: '24/07' if '24 de julio' in x else '31/07')\n",
    "dataset['N'] = range(len(dataset))\n",
    "dataset.head()"
   ]
  },
  {
   "cell_type": "code",
   "execution_count": 4,
   "metadata": {},
   "outputs": [
    {
     "data": {
      "text/plain": [
       "(34, 3)"
      ]
     },
     "execution_count": 4,
     "metadata": {},
     "output_type": "execute_result"
    }
   ],
   "source": [
    "dataset.shape"
   ]
  },
  {
   "cell_type": "markdown",
   "metadata": {},
   "source": [
    "Como podemos ver, en la columna de `Fecha` tenemos la fecha de las 2 evaluaciones que se realizaron, el 24 y el 31 de julio. En la columna de `Puntaje` tenemos los puntajes obtenidos. La columna `N` es un índice identificador que usaremos más tarde para presentar los resultados. Tenemos 34 filas, indicando 2 evaluaciones, 17 por cada fecha."
   ]
  },
  {
   "cell_type": "markdown",
   "metadata": {},
   "source": [
    "## Comparación de puntajes"
   ]
  },
  {
   "cell_type": "markdown",
   "metadata": {},
   "source": [
    "Lo primero que haremos será comparar los puntajes obtenidos por cada evaluación. Para esto, empezaremos por mostrar los datos usando diagramas de cajas. Si quieren más información sobre los diagramas de cajas pueden consultar [aquí](https://es.wikipedia.org/wiki/Diagrama_de_caja)."
   ]
  },
  {
   "cell_type": "code",
   "execution_count": 5,
   "metadata": {},
   "outputs": [
    {
     "data": {
      "image/png": "[encoded data removed]",
      "text/plain": [
       "<Figure size 864x576 with 1 Axes>"
      ]
     },
     "metadata": {
      "needs_background": "light"
     },
     "output_type": "display_data"
    }
   ],
   "source": [
    "plt.figure(figsize=(12,8))\n",
    "sns.boxplot(data=dataset, x='Fecha', y='Puntaje')\n",
    "plt.show()"
   ]
  },
  {
   "cell_type": "markdown",
   "metadata": {},
   "source": [
    "Ya a primera vista, podemos notar que los puntajes obtenidos el 31/07 fueron mayores que los obtenidos el 24/07. Lo siguiente que haremos será mostrar la tabla de valores de tendencia central y dispersión de los puntajes obtenidos, por cada fecha. Si quieren revisar más acerca de los valores de tendencia central, pueden hacerlo [aquí](https://es.wikipedia.org/wiki/Medidas_de_tendencia_central). Si quieren saber más acerca de los valores de dispersión, pueden hacerl [aquí](https://es.wikipedia.org/wiki/Medidas_de_dispersión)."
   ]
  },
  {
   "cell_type": "code",
   "execution_count": 7,
   "metadata": {},
   "outputs": [
    {
     "data": {
      "text/html": [
       "<div>\n",
       "<style scoped>\n",
       "    .dataframe tbody tr th:only-of-type {\n",
       "        vertical-align: middle;\n",
       "    }\n",
       "\n",
       "    .dataframe tbody tr th {\n",
       "        vertical-align: top;\n",
       "    }\n",
       "\n",
       "    .dataframe thead th {\n",
       "        text-align: right;\n",
       "    }\n",
       "</style>\n",
       "<table border=\"1\" class=\"dataframe\">\n",
       "  <thead>\n",
       "    <tr style=\"text-align: right;\">\n",
       "      <th></th>\n",
       "      <th>count</th>\n",
       "      <th>mean</th>\n",
       "      <th>std</th>\n",
       "      <th>min</th>\n",
       "      <th>25%</th>\n",
       "      <th>50%</th>\n",
       "      <th>75%</th>\n",
       "      <th>max</th>\n",
       "    </tr>\n",
       "    <tr>\n",
       "      <th>Fecha</th>\n",
       "      <th></th>\n",
       "      <th></th>\n",
       "      <th></th>\n",
       "      <th></th>\n",
       "      <th></th>\n",
       "      <th></th>\n",
       "      <th></th>\n",
       "      <th></th>\n",
       "    </tr>\n",
       "  </thead>\n",
       "  <tbody>\n",
       "    <tr>\n",
       "      <th>24/07</th>\n",
       "      <td>16.0</td>\n",
       "      <td>27.250000</td>\n",
       "      <td>6.836178</td>\n",
       "      <td>18.0</td>\n",
       "      <td>22.0</td>\n",
       "      <td>25.5</td>\n",
       "      <td>32.25</td>\n",
       "      <td>39.0</td>\n",
       "    </tr>\n",
       "    <tr>\n",
       "      <th>31/07</th>\n",
       "      <td>17.0</td>\n",
       "      <td>32.470588</td>\n",
       "      <td>6.236161</td>\n",
       "      <td>18.0</td>\n",
       "      <td>30.0</td>\n",
       "      <td>30.0</td>\n",
       "      <td>39.00</td>\n",
       "      <td>41.0</td>\n",
       "    </tr>\n",
       "  </tbody>\n",
       "</table>\n",
       "</div>"
      ],
      "text/plain": [
       "       count       mean       std   min   25%   50%    75%   max\n",
       "Fecha                                                           \n",
       "24/07   16.0  27.250000  6.836178  18.0  22.0  25.5  32.25  39.0\n",
       "31/07   17.0  32.470588  6.236161  18.0  30.0  30.0  39.00  41.0"
      ]
     },
     "execution_count": 7,
     "metadata": {},
     "output_type": "execute_result"
    }
   ],
   "source": [
    "dataset.groupby('Fecha')['Puntaje'].describe()"
   ]
  },
  {
   "cell_type": "markdown",
   "metadata": {},
   "source": [
    "Como podemos ver, los valores promedios de los puntajes subieron de 27 puntos a 32 puntos entre la primera y la segunda fecha. Los valores medianos subieron por un valor similar (de 25 puntos a 30 puntos). Los valores de dispersión (desviación estándar, rango interquartilo) fueron similares entre ambas fechas, lo que indica varianzas homogéneas (esto será importante después para elegir la prueba estadística apropiada). Lo mismo con los valores promedios y medianos, lo que indica que es razonable asumir una distribución normal para los puntajes por fechas."
   ]
  },
  {
   "cell_type": "markdown",
   "metadata": {},
   "source": [
    "Lo siguiente será comparar si las distribuciones de los puntajes por fechas son diferentes entre sí. Para esto (y tomando todo lo anterior con respecto a las presunciones de normalidad y varianzas homogéneas), usaremos la prueba t de Student para muestras no pareadas (independientes). Si quieren saber más acerca de la prueba t de Student, pueden hacer [aquí](https://es.wikipedia.org/wiki/Prueba_t_de_Student)."
   ]
  },
  {
   "cell_type": "code",
   "execution_count": null,
   "metadata": {},
   "outputs": [],
   "source": []
  }
 ],
 "metadata": {
  "kernelspec": {
   "display_name": "Python 3",
   "language": "python",
   "name": "python3"
  },
  "language_info": {
   "codemirror_mode": {
    "name": "ipython",
    "version": 3
   },
   "file_extension": ".py",
   "mimetype": "text/x-python",
   "name": "python",
   "nbconvert_exporter": "python",
   "pygments_lexer": "ipython3",
   "version": "3.7.7"
  }
 },
 "nbformat": 4,
 "nbformat_minor": 4
}
